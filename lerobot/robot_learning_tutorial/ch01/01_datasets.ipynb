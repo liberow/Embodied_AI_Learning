{
 "cells": [
  {
   "cell_type": "code",
   "execution_count": 11,
   "id": "0a3d28a9",
   "metadata": {},
   "outputs": [],
   "source": [
    "import os\n",
    "\n",
    "# 设置 HuggingFace 镜像和缓存路径\n",
    "os.environ[\"HF_ENDPOINT\"] = \"https://hf-mirror.com\""
   ]
  },
  {
   "cell_type": "code",
   "execution_count": 12,
   "id": "3c675af0",
   "metadata": {},
   "outputs": [],
   "source": [
    "import torch \n",
    "from lerobot.datasets.lerobot_dataset import LeRobotDataset\n",
    "from lerobot.datasets.streaming_dataset import StreamingLeRobotDataset\n"
   ]
  },
  {
   "cell_type": "code",
   "execution_count": 13,
   "id": "37d23616",
   "metadata": {},
   "outputs": [],
   "source": [
    "delta_timestamps = {\n",
    "    \"observation.images.wrist_camera\": [-0.2, -0.1, 0.0] # 每帧*前* 0.2 秒和 0.1 秒\n",
    "}"
   ]
  },
  {
   "cell_type": "code",
   "execution_count": 14,
   "id": "61a61f45",
   "metadata": {},
   "outputs": [
    {
     "ename": "BackwardCompatibilityError",
     "evalue": "\nThe dataset you requested (lerobot/svla_so101_pickplace) is in 2.1 format.\n\nWe introduced a new format since v3.0 which is not backward compatible with v2.1.\nPlease, update your dataset to the new format using this command:\n```\npython -m lerobot.datasets.v30.convert_dataset_v21_to_v30 --repo-id=lerobot/svla_so101_pickplace\n```\n\nIf you already have a converted version uploaded to the hub, then this error might be because of\nan older version in your local cache. Consider deleting the cached version and retrying.\n\nIf you encounter a problem, contact LeRobot maintainers on [Discord](https://discord.com/invite/s3KuuzsPFb)\nor open an [issue on GitHub](https://github.com/huggingface/lerobot/issues/new/choose).\n",
     "output_type": "error",
     "traceback": [
      "\u001b[0;31m---------------------------------------------------------------------------\u001b[0m",
      "\u001b[0;31mBackwardCompatibilityError\u001b[0m                Traceback (most recent call last)",
      "Cell \u001b[0;32mIn[14], line 2\u001b[0m\n\u001b[1;32m      1\u001b[0m \u001b[38;5;66;03m# 可选地，使用 StreamingLeRobotDataset 来避免下载数据集\u001b[39;00m\n\u001b[0;32m----> 2\u001b[0m dataset \u001b[38;5;241m=\u001b[39m \u001b[43mLeRobotDataset\u001b[49m\u001b[43m(\u001b[49m\n\u001b[1;32m      3\u001b[0m \u001b[43m    \u001b[49m\u001b[43mrepo_id\u001b[49m\u001b[38;5;241;43m=\u001b[39;49m\u001b[38;5;124;43m\"\u001b[39;49m\u001b[38;5;124;43mlerobot/svla_so101_pickplace\u001b[39;49m\u001b[38;5;124;43m\"\u001b[39;49m\u001b[43m,\u001b[49m\n\u001b[1;32m      4\u001b[0m \u001b[43m    \u001b[49m\u001b[43mdelta_timestamps\u001b[49m\u001b[38;5;241;43m=\u001b[39;49m\u001b[43mdelta_timestamps\u001b[49m\n\u001b[1;32m      5\u001b[0m \u001b[43m)\u001b[49m\n",
      "File \u001b[0;32m/lizhengton/miniconda3/envs/robot_learning_tutorial/lib/python3.10/site-packages/lerobot/datasets/lerobot_dataset.py:694\u001b[0m, in \u001b[0;36mLeRobotDataset.__init__\u001b[0;34m(self, repo_id, root, episodes, image_transforms, delta_timestamps, tolerance_s, revision, force_cache_sync, download_videos, video_backend, batch_encoding_size)\u001b[0m\n\u001b[1;32m    691\u001b[0m \u001b[38;5;28mself\u001b[39m\u001b[38;5;241m.\u001b[39mroot\u001b[38;5;241m.\u001b[39mmkdir(exist_ok\u001b[38;5;241m=\u001b[39m\u001b[38;5;28;01mTrue\u001b[39;00m, parents\u001b[38;5;241m=\u001b[39m\u001b[38;5;28;01mTrue\u001b[39;00m)\n\u001b[1;32m    693\u001b[0m \u001b[38;5;66;03m# Load metadata\u001b[39;00m\n\u001b[0;32m--> 694\u001b[0m \u001b[38;5;28mself\u001b[39m\u001b[38;5;241m.\u001b[39mmeta \u001b[38;5;241m=\u001b[39m \u001b[43mLeRobotDatasetMetadata\u001b[49m\u001b[43m(\u001b[49m\n\u001b[1;32m    695\u001b[0m \u001b[43m    \u001b[49m\u001b[38;5;28;43mself\u001b[39;49m\u001b[38;5;241;43m.\u001b[39;49m\u001b[43mrepo_id\u001b[49m\u001b[43m,\u001b[49m\u001b[43m \u001b[49m\u001b[38;5;28;43mself\u001b[39;49m\u001b[38;5;241;43m.\u001b[39;49m\u001b[43mroot\u001b[49m\u001b[43m,\u001b[49m\u001b[43m \u001b[49m\u001b[38;5;28;43mself\u001b[39;49m\u001b[38;5;241;43m.\u001b[39;49m\u001b[43mrevision\u001b[49m\u001b[43m,\u001b[49m\u001b[43m \u001b[49m\u001b[43mforce_cache_sync\u001b[49m\u001b[38;5;241;43m=\u001b[39;49m\u001b[43mforce_cache_sync\u001b[49m\n\u001b[1;32m    696\u001b[0m \u001b[43m\u001b[49m\u001b[43m)\u001b[49m\n\u001b[1;32m    698\u001b[0m \u001b[38;5;66;03m# Track dataset state for efficient incremental writing\u001b[39;00m\n\u001b[1;32m    699\u001b[0m \u001b[38;5;28mself\u001b[39m\u001b[38;5;241m.\u001b[39m_lazy_loading \u001b[38;5;241m=\u001b[39m \u001b[38;5;28;01mFalse\u001b[39;00m\n",
      "File \u001b[0;32m/lizhengton/miniconda3/envs/robot_learning_tutorial/lib/python3.10/site-packages/lerobot/datasets/lerobot_dataset.py:102\u001b[0m, in \u001b[0;36mLeRobotDatasetMetadata.__init__\u001b[0;34m(self, repo_id, root, revision, force_cache_sync, metadata_buffer_size)\u001b[0m\n\u001b[1;32m    100\u001b[0m     \u001b[38;5;28;01mif\u001b[39;00m force_cache_sync:\n\u001b[1;32m    101\u001b[0m         \u001b[38;5;28;01mraise\u001b[39;00m \u001b[38;5;167;01mFileNotFoundError\u001b[39;00m\n\u001b[0;32m--> 102\u001b[0m     \u001b[38;5;28;43mself\u001b[39;49m\u001b[38;5;241;43m.\u001b[39;49m\u001b[43mload_metadata\u001b[49m\u001b[43m(\u001b[49m\u001b[43m)\u001b[49m\n\u001b[1;32m    103\u001b[0m \u001b[38;5;28;01mexcept\u001b[39;00m (\u001b[38;5;167;01mFileNotFoundError\u001b[39;00m, \u001b[38;5;167;01mNotADirectoryError\u001b[39;00m):\n\u001b[1;32m    104\u001b[0m     \u001b[38;5;28;01mif\u001b[39;00m is_valid_version(\u001b[38;5;28mself\u001b[39m\u001b[38;5;241m.\u001b[39mrevision):\n",
      "File \u001b[0;32m/lizhengton/miniconda3/envs/robot_learning_tutorial/lib/python3.10/site-packages/lerobot/datasets/lerobot_dataset.py:161\u001b[0m, in \u001b[0;36mLeRobotDatasetMetadata.load_metadata\u001b[0;34m(self)\u001b[0m\n\u001b[1;32m    159\u001b[0m \u001b[38;5;28;01mdef\u001b[39;00m\u001b[38;5;250m \u001b[39m\u001b[38;5;21mload_metadata\u001b[39m(\u001b[38;5;28mself\u001b[39m):\n\u001b[1;32m    160\u001b[0m     \u001b[38;5;28mself\u001b[39m\u001b[38;5;241m.\u001b[39minfo \u001b[38;5;241m=\u001b[39m load_info(\u001b[38;5;28mself\u001b[39m\u001b[38;5;241m.\u001b[39mroot)\n\u001b[0;32m--> 161\u001b[0m     \u001b[43mcheck_version_compatibility\u001b[49m\u001b[43m(\u001b[49m\u001b[38;5;28;43mself\u001b[39;49m\u001b[38;5;241;43m.\u001b[39;49m\u001b[43mrepo_id\u001b[49m\u001b[43m,\u001b[49m\u001b[43m \u001b[49m\u001b[38;5;28;43mself\u001b[39;49m\u001b[38;5;241;43m.\u001b[39;49m\u001b[43m_version\u001b[49m\u001b[43m,\u001b[49m\u001b[43m \u001b[49m\u001b[43mCODEBASE_VERSION\u001b[49m\u001b[43m)\u001b[49m\n\u001b[1;32m    162\u001b[0m     \u001b[38;5;28mself\u001b[39m\u001b[38;5;241m.\u001b[39mtasks \u001b[38;5;241m=\u001b[39m load_tasks(\u001b[38;5;28mself\u001b[39m\u001b[38;5;241m.\u001b[39mroot)\n\u001b[1;32m    163\u001b[0m     \u001b[38;5;28mself\u001b[39m\u001b[38;5;241m.\u001b[39mepisodes \u001b[38;5;241m=\u001b[39m load_episodes(\u001b[38;5;28mself\u001b[39m\u001b[38;5;241m.\u001b[39mroot)\n",
      "File \u001b[0;32m/lizhengton/miniconda3/envs/robot_learning_tutorial/lib/python3.10/site-packages/lerobot/datasets/utils.py:469\u001b[0m, in \u001b[0;36mcheck_version_compatibility\u001b[0;34m(repo_id, version_to_check, current_version, enforce_breaking_major)\u001b[0m\n\u001b[1;32m    463\u001b[0m v_current \u001b[38;5;241m=\u001b[39m (\n\u001b[1;32m    464\u001b[0m     packaging\u001b[38;5;241m.\u001b[39mversion\u001b[38;5;241m.\u001b[39mparse(current_version)\n\u001b[1;32m    465\u001b[0m     \u001b[38;5;28;01mif\u001b[39;00m \u001b[38;5;129;01mnot\u001b[39;00m \u001b[38;5;28misinstance\u001b[39m(current_version, packaging\u001b[38;5;241m.\u001b[39mversion\u001b[38;5;241m.\u001b[39mVersion)\n\u001b[1;32m    466\u001b[0m     \u001b[38;5;28;01melse\u001b[39;00m current_version\n\u001b[1;32m    467\u001b[0m )\n\u001b[1;32m    468\u001b[0m \u001b[38;5;28;01mif\u001b[39;00m v_check\u001b[38;5;241m.\u001b[39mmajor \u001b[38;5;241m<\u001b[39m v_current\u001b[38;5;241m.\u001b[39mmajor \u001b[38;5;129;01mand\u001b[39;00m enforce_breaking_major:\n\u001b[0;32m--> 469\u001b[0m     \u001b[38;5;28;01mraise\u001b[39;00m BackwardCompatibilityError(repo_id, v_check)\n\u001b[1;32m    470\u001b[0m \u001b[38;5;28;01melif\u001b[39;00m v_check\u001b[38;5;241m.\u001b[39mminor \u001b[38;5;241m<\u001b[39m v_current\u001b[38;5;241m.\u001b[39mminor:\n\u001b[1;32m    471\u001b[0m     logging\u001b[38;5;241m.\u001b[39mwarning(FUTURE_MESSAGE\u001b[38;5;241m.\u001b[39mformat(repo_id\u001b[38;5;241m=\u001b[39mrepo_id, version\u001b[38;5;241m=\u001b[39mv_check))\n",
      "\u001b[0;31mBackwardCompatibilityError\u001b[0m: \nThe dataset you requested (lerobot/svla_so101_pickplace) is in 2.1 format.\n\nWe introduced a new format since v3.0 which is not backward compatible with v2.1.\nPlease, update your dataset to the new format using this command:\n```\npython -m lerobot.datasets.v30.convert_dataset_v21_to_v30 --repo-id=lerobot/svla_so101_pickplace\n```\n\nIf you already have a converted version uploaded to the hub, then this error might be because of\nan older version in your local cache. Consider deleting the cached version and retrying.\n\nIf you encounter a problem, contact LeRobot maintainers on [Discord](https://discord.com/invite/s3KuuzsPFb)\nor open an [issue on GitHub](https://github.com/huggingface/lerobot/issues/new/choose).\n"
     ]
    }
   ],
   "source": [
    "# 可选地，使用 StreamingLeRobotDataset 来避免下载数据集\n",
    "dataset = LeRobotDataset(\n",
    "    repo_id=\"lerobot/svla_so101_pickplace\",\n",
    "    delta_timestamps=delta_timestamps\n",
    ")"
   ]
  },
  {
   "cell_type": "code",
   "execution_count": 10,
   "id": "cdd32725",
   "metadata": {},
   "outputs": [
    {
     "ename": "BackwardCompatibilityError",
     "evalue": "\nThe dataset you requested (lerobot/svla_so101_pickplace) is in 2.1 format.\n\nWe introduced a new format since v3.0 which is not backward compatible with v2.1.\nPlease, update your dataset to the new format using this command:\n```\npython -m lerobot.datasets.v30.convert_dataset_v21_to_v30 --repo-id=lerobot/svla_so101_pickplace\n```\n\nIf you already have a converted version uploaded to the hub, then this error might be because of\nan older version in your local cache. Consider deleting the cached version and retrying.\n\nIf you encounter a problem, contact LeRobot maintainers on [Discord](https://discord.com/invite/s3KuuzsPFb)\nor open an [issue on GitHub](https://github.com/huggingface/lerobot/issues/new/choose).\n",
     "output_type": "error",
     "traceback": [
      "\u001b[0;31m---------------------------------------------------------------------------\u001b[0m",
      "\u001b[0;31mBackwardCompatibilityError\u001b[0m                Traceback (most recent call last)",
      "Cell \u001b[0;32mIn[10], line 2\u001b[0m\n\u001b[1;32m      1\u001b[0m \u001b[38;5;66;03m# 从 Hugging Face Hub 流式传输帧，无需加载到内存中\u001b[39;00m\n\u001b[0;32m----> 2\u001b[0m streaming_dataset \u001b[38;5;241m=\u001b[39m \u001b[43mStreamingLeRobotDataset\u001b[49m\u001b[43m(\u001b[49m\n\u001b[1;32m      3\u001b[0m \u001b[43m    \u001b[49m\u001b[38;5;124;43m\"\u001b[39;49m\u001b[38;5;124;43mlerobot/svla_so101_pickplace\u001b[39;49m\u001b[38;5;124;43m\"\u001b[39;49m\u001b[43m,\u001b[49m\n\u001b[1;32m      4\u001b[0m \u001b[43m    \u001b[49m\u001b[43mdelta_timestamps\u001b[49m\u001b[38;5;241;43m=\u001b[39;49m\u001b[43mdelta_timestamps\u001b[49m\n\u001b[1;32m      5\u001b[0m \u001b[43m)\u001b[49m\n",
      "File \u001b[0;32m/lizhengton/miniconda3/envs/robot_learning_tutorial/lib/python3.10/site-packages/lerobot/datasets/streaming_dataset.py:138\u001b[0m, in \u001b[0;36mStreamingLeRobotDataset.__init__\u001b[0;34m(self, repo_id, root, episodes, image_transforms, delta_timestamps, tolerance_s, revision, force_cache_sync, streaming, buffer_size, max_num_shards, seed, rng, shuffle)\u001b[0m\n\u001b[1;32m    135\u001b[0m \u001b[38;5;28mself\u001b[39m\u001b[38;5;241m.\u001b[39mroot\u001b[38;5;241m.\u001b[39mmkdir(exist_ok\u001b[38;5;241m=\u001b[39m\u001b[38;5;28;01mTrue\u001b[39;00m, parents\u001b[38;5;241m=\u001b[39m\u001b[38;5;28;01mTrue\u001b[39;00m)\n\u001b[1;32m    137\u001b[0m \u001b[38;5;66;03m# Load metadata\u001b[39;00m\n\u001b[0;32m--> 138\u001b[0m \u001b[38;5;28mself\u001b[39m\u001b[38;5;241m.\u001b[39mmeta \u001b[38;5;241m=\u001b[39m \u001b[43mLeRobotDatasetMetadata\u001b[49m\u001b[43m(\u001b[49m\n\u001b[1;32m    139\u001b[0m \u001b[43m    \u001b[49m\u001b[38;5;28;43mself\u001b[39;49m\u001b[38;5;241;43m.\u001b[39;49m\u001b[43mrepo_id\u001b[49m\u001b[43m,\u001b[49m\u001b[43m \u001b[49m\u001b[38;5;28;43mself\u001b[39;49m\u001b[38;5;241;43m.\u001b[39;49m\u001b[43mroot\u001b[49m\u001b[43m,\u001b[49m\u001b[43m \u001b[49m\u001b[38;5;28;43mself\u001b[39;49m\u001b[38;5;241;43m.\u001b[39;49m\u001b[43mrevision\u001b[49m\u001b[43m,\u001b[49m\u001b[43m \u001b[49m\u001b[43mforce_cache_sync\u001b[49m\u001b[38;5;241;43m=\u001b[39;49m\u001b[43mforce_cache_sync\u001b[49m\n\u001b[1;32m    140\u001b[0m \u001b[43m\u001b[49m\u001b[43m)\u001b[49m\n\u001b[1;32m    141\u001b[0m \u001b[38;5;66;03m# Check version\u001b[39;00m\n\u001b[1;32m    142\u001b[0m check_version_compatibility(\u001b[38;5;28mself\u001b[39m\u001b[38;5;241m.\u001b[39mrepo_id, \u001b[38;5;28mself\u001b[39m\u001b[38;5;241m.\u001b[39mmeta\u001b[38;5;241m.\u001b[39m_version, CODEBASE_VERSION)\n",
      "File \u001b[0;32m/lizhengton/miniconda3/envs/robot_learning_tutorial/lib/python3.10/site-packages/lerobot/datasets/lerobot_dataset.py:102\u001b[0m, in \u001b[0;36mLeRobotDatasetMetadata.__init__\u001b[0;34m(self, repo_id, root, revision, force_cache_sync, metadata_buffer_size)\u001b[0m\n\u001b[1;32m    100\u001b[0m     \u001b[38;5;28;01mif\u001b[39;00m force_cache_sync:\n\u001b[1;32m    101\u001b[0m         \u001b[38;5;28;01mraise\u001b[39;00m \u001b[38;5;167;01mFileNotFoundError\u001b[39;00m\n\u001b[0;32m--> 102\u001b[0m     \u001b[38;5;28;43mself\u001b[39;49m\u001b[38;5;241;43m.\u001b[39;49m\u001b[43mload_metadata\u001b[49m\u001b[43m(\u001b[49m\u001b[43m)\u001b[49m\n\u001b[1;32m    103\u001b[0m \u001b[38;5;28;01mexcept\u001b[39;00m (\u001b[38;5;167;01mFileNotFoundError\u001b[39;00m, \u001b[38;5;167;01mNotADirectoryError\u001b[39;00m):\n\u001b[1;32m    104\u001b[0m     \u001b[38;5;28;01mif\u001b[39;00m is_valid_version(\u001b[38;5;28mself\u001b[39m\u001b[38;5;241m.\u001b[39mrevision):\n",
      "File \u001b[0;32m/lizhengton/miniconda3/envs/robot_learning_tutorial/lib/python3.10/site-packages/lerobot/datasets/lerobot_dataset.py:161\u001b[0m, in \u001b[0;36mLeRobotDatasetMetadata.load_metadata\u001b[0;34m(self)\u001b[0m\n\u001b[1;32m    159\u001b[0m \u001b[38;5;28;01mdef\u001b[39;00m\u001b[38;5;250m \u001b[39m\u001b[38;5;21mload_metadata\u001b[39m(\u001b[38;5;28mself\u001b[39m):\n\u001b[1;32m    160\u001b[0m     \u001b[38;5;28mself\u001b[39m\u001b[38;5;241m.\u001b[39minfo \u001b[38;5;241m=\u001b[39m load_info(\u001b[38;5;28mself\u001b[39m\u001b[38;5;241m.\u001b[39mroot)\n\u001b[0;32m--> 161\u001b[0m     \u001b[43mcheck_version_compatibility\u001b[49m\u001b[43m(\u001b[49m\u001b[38;5;28;43mself\u001b[39;49m\u001b[38;5;241;43m.\u001b[39;49m\u001b[43mrepo_id\u001b[49m\u001b[43m,\u001b[49m\u001b[43m \u001b[49m\u001b[38;5;28;43mself\u001b[39;49m\u001b[38;5;241;43m.\u001b[39;49m\u001b[43m_version\u001b[49m\u001b[43m,\u001b[49m\u001b[43m \u001b[49m\u001b[43mCODEBASE_VERSION\u001b[49m\u001b[43m)\u001b[49m\n\u001b[1;32m    162\u001b[0m     \u001b[38;5;28mself\u001b[39m\u001b[38;5;241m.\u001b[39mtasks \u001b[38;5;241m=\u001b[39m load_tasks(\u001b[38;5;28mself\u001b[39m\u001b[38;5;241m.\u001b[39mroot)\n\u001b[1;32m    163\u001b[0m     \u001b[38;5;28mself\u001b[39m\u001b[38;5;241m.\u001b[39mepisodes \u001b[38;5;241m=\u001b[39m load_episodes(\u001b[38;5;28mself\u001b[39m\u001b[38;5;241m.\u001b[39mroot)\n",
      "File \u001b[0;32m/lizhengton/miniconda3/envs/robot_learning_tutorial/lib/python3.10/site-packages/lerobot/datasets/utils.py:469\u001b[0m, in \u001b[0;36mcheck_version_compatibility\u001b[0;34m(repo_id, version_to_check, current_version, enforce_breaking_major)\u001b[0m\n\u001b[1;32m    463\u001b[0m v_current \u001b[38;5;241m=\u001b[39m (\n\u001b[1;32m    464\u001b[0m     packaging\u001b[38;5;241m.\u001b[39mversion\u001b[38;5;241m.\u001b[39mparse(current_version)\n\u001b[1;32m    465\u001b[0m     \u001b[38;5;28;01mif\u001b[39;00m \u001b[38;5;129;01mnot\u001b[39;00m \u001b[38;5;28misinstance\u001b[39m(current_version, packaging\u001b[38;5;241m.\u001b[39mversion\u001b[38;5;241m.\u001b[39mVersion)\n\u001b[1;32m    466\u001b[0m     \u001b[38;5;28;01melse\u001b[39;00m current_version\n\u001b[1;32m    467\u001b[0m )\n\u001b[1;32m    468\u001b[0m \u001b[38;5;28;01mif\u001b[39;00m v_check\u001b[38;5;241m.\u001b[39mmajor \u001b[38;5;241m<\u001b[39m v_current\u001b[38;5;241m.\u001b[39mmajor \u001b[38;5;129;01mand\u001b[39;00m enforce_breaking_major:\n\u001b[0;32m--> 469\u001b[0m     \u001b[38;5;28;01mraise\u001b[39;00m BackwardCompatibilityError(repo_id, v_check)\n\u001b[1;32m    470\u001b[0m \u001b[38;5;28;01melif\u001b[39;00m v_check\u001b[38;5;241m.\u001b[39mminor \u001b[38;5;241m<\u001b[39m v_current\u001b[38;5;241m.\u001b[39mminor:\n\u001b[1;32m    471\u001b[0m     logging\u001b[38;5;241m.\u001b[39mwarning(FUTURE_MESSAGE\u001b[38;5;241m.\u001b[39mformat(repo_id\u001b[38;5;241m=\u001b[39mrepo_id, version\u001b[38;5;241m=\u001b[39mv_check))\n",
      "\u001b[0;31mBackwardCompatibilityError\u001b[0m: \nThe dataset you requested (lerobot/svla_so101_pickplace) is in 2.1 format.\n\nWe introduced a new format since v3.0 which is not backward compatible with v2.1.\nPlease, update your dataset to the new format using this command:\n```\npython -m lerobot.datasets.v30.convert_dataset_v21_to_v30 --repo-id=lerobot/svla_so101_pickplace\n```\n\nIf you already have a converted version uploaded to the hub, then this error might be because of\nan older version in your local cache. Consider deleting the cached version and retrying.\n\nIf you encounter a problem, contact LeRobot maintainers on [Discord](https://discord.com/invite/s3KuuzsPFb)\nor open an [issue on GitHub](https://github.com/huggingface/lerobot/issues/new/choose).\n"
     ]
    }
   ],
   "source": [
    "# 从 Hugging Face Hub 流式传输帧，无需加载到内存中\n",
    "streaming_dataset = StreamingLeRobotDataset(\n",
    "    \"lerobot/svla_so101_pickplace\",\n",
    "    delta_timestamps=delta_timestamps\n",
    ")"
   ]
  },
  {
   "cell_type": "code",
   "execution_count": null,
   "id": "432bbe9e",
   "metadata": {},
   "outputs": [],
   "source": [
    "# 获取数据集中的第 100 帧\n",
    "sample = dataset[100]\n",
    "print(sample)"
   ]
  },
  {
   "cell_type": "code",
   "execution_count": null,
   "id": "f35add62",
   "metadata": {},
   "outputs": [],
   "source": [
    "batch_size = 16\n",
    "# 将数据集包装在 DataLoader 中，以便将其批量处理用于训练目的\n",
    "data_loader = torch.utils.data.DataLoader(\n",
    "    dataset,\n",
    "    batch_size=batch_size,\n",
    ")"
   ]
  },
  {
   "cell_type": "code",
   "execution_count": null,
   "id": "59d7f00b",
   "metadata": {},
   "outputs": [],
   "source": [
    "# 在训练循环中迭代 DataLoader\n",
    "num_epochs = 1\n",
    "device = \"cuda\" if torch.cuda.is_available() else \"cpu\"\n",
    "\n",
    "for epoch in range(num_epochs):\n",
    "    for batch in data_loader:\n",
    "        # # Move data to the appropriate device (e.g., GPU)\n",
    "        observations = batch[\"observation.state\"].to(device)\n",
    "        actions = batch[\"action\"].to(device)\n",
    "        images = batch[\"observation.images.wrist_camera\"].to(device)\n",
    "        \n"
   ]
  }
 ],
 "metadata": {
  "kernelspec": {
   "display_name": "Python 3",
   "language": "python",
   "name": "python3"
  },
  "language_info": {
   "codemirror_mode": {
    "name": "ipython",
    "version": 3
   },
   "file_extension": ".py",
   "mimetype": "text/x-python",
   "name": "python",
   "nbconvert_exporter": "python",
   "pygments_lexer": "ipython3",
   "version": "3.10.19"
  }
 },
 "nbformat": 4,
 "nbformat_minor": 5
}
